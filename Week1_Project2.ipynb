{
 "cells": [
  {
   "cell_type": "markdown",
   "metadata": {},
   "source": [
    "Triangles can be classified based on their angles.\n",
    "\n",
    "A right triangle has one angle of 90°\n",
    "A obtuse triangle has one angle of more than 90°\n",
    "A triangle is acute if all three angles are less than 90°\n",
    "\n",
    "Write a program that asks the user for the values of three angles in degrees. \n",
    "    First check if the entered values are valid. The values are only valid if they are >0 and if their sum is 180°. \n",
    "    If the entered values are valid, classify the triangle as right, acute or obtuse.\n",
    "\n",
    "    str.isdigit()"
   ]
  },
  {
   "cell_type": "code",
   "execution_count": 20,
   "metadata": {},
   "outputs": [
    {
     "ename": "ValueError",
     "evalue": "invalid literal for int() with base 10: 'fish'",
     "output_type": "error",
     "traceback": [
      "\u001b[1;31m---------------------------------------------------------------------------\u001b[0m",
      "\u001b[1;31mValueError\u001b[0m                                Traceback (most recent call last)",
      "Cell \u001b[1;32mIn[20], line 2\u001b[0m\n\u001b[0;32m      1\u001b[0m \u001b[39m#Get user input for 3 angles of the triangle \u001b[39;00m\n\u001b[1;32m----> 2\u001b[0m angle1 \u001b[39m=\u001b[39m \u001b[39mint\u001b[39;49m(\u001b[39minput\u001b[39;49m(\u001b[39m\"\u001b[39;49m\u001b[39mWhat is the value in degrees of angle 1?\u001b[39;49m\u001b[39m\"\u001b[39;49m))\n\u001b[0;32m      3\u001b[0m angle2 \u001b[39m=\u001b[39m \u001b[39mint\u001b[39m(\u001b[39minput\u001b[39m(\u001b[39m\"\u001b[39m\u001b[39mWhat is the value in degrees of angle 2?\u001b[39m\u001b[39m\"\u001b[39m))\n\u001b[0;32m      4\u001b[0m angle3 \u001b[39m=\u001b[39m \u001b[39mint\u001b[39m(\u001b[39minput\u001b[39m(\u001b[39m\"\u001b[39m\u001b[39mWhat is the value in degrees of angle 3?\u001b[39m\u001b[39m\"\u001b[39m))\n",
      "\u001b[1;31mValueError\u001b[0m: invalid literal for int() with base 10: 'fish'"
     ]
    }
   ],
   "source": [
    "#Get user input for 3 angles of the triangle \n",
    "angle1 = int(input(\"What is the value in degrees of angle 1?\"))\n",
    "angle2 = int(input(\"What is the value in degrees of angle 2?\"))\n",
    "angle3 = int(input(\"What is the value in degrees of angle 3?\"))\n",
    "\n",
    "#Check each angle is a valid integer\n",
    "if (angle1 and angle2 and angle3) != 0 and (angle1 + angle2 + angle3 == 180):\n",
    "   \n",
    "   #Check for right triangle\n",
    "    if (angle1 or angle2 or angle3) == 90:\n",
    "        print (\"This is a right triangle\")\n",
    "\n",
    "    #Check for Obtuse triangle\n",
    "    elif (angle1 or angle2 or angle3) > 90:\n",
    "        print (\"Obtuse triangle\")\n",
    "\n",
    "    #Check for acute triangle\n",
    "    elif (angle1 and angle2 and angle3) < 90:\n",
    "        print (\"Acute triangle\")\n",
    "\n",
    "    \n",
    "else:\n",
    "    print (\"Error, please check that all angles are integers, greater than 0, and their sum is 180°\")"
   ]
  }
 ],
 "metadata": {
  "kernelspec": {
   "display_name": "Python 3",
   "language": "python",
   "name": "python3"
  },
  "language_info": {
   "codemirror_mode": {
    "name": "ipython",
    "version": 3
   },
   "file_extension": ".py",
   "mimetype": "text/x-python",
   "name": "python",
   "nbconvert_exporter": "python",
   "pygments_lexer": "ipython3",
   "version": "3.11.4"
  },
  "orig_nbformat": 4
 },
 "nbformat": 4,
 "nbformat_minor": 2
}
