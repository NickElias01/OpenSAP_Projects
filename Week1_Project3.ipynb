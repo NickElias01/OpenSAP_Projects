{
 "cells": [
  {
   "cell_type": "markdown",
   "metadata": {},
   "source": [
    "A quadratic equation is an equation that can be written as\n",
    "\n",
    "formula quadratic equation\n",
    "\n",
    "In this equation x represents an unknown number, and a, b, and c are representing known numbers. Possible solutions for a given quadratic equation can be calculated by the formula\n",
    "\n",
    "formula possible solutions\n",
    "\n",
    "The expression formula discriminant is called the discriminant. Using the discriminant makes it is easy to check the number of solutions for a given quadratic equation:\n",
    "\n",
    "If the discriminant is 0, the quadratic equation has exactly one real solution.\n",
    "If the discriminant is > 0, the quadratic equation has two real solutions.\n",
    "If the discriminant is < 0, the quadratic equation has two complex solutions.\n",
    "Write a program that asks the user for the numbers a, b and c. The program should then print out how many solutions the quadratic equation has.\n",
    "\n",
    "Below is an example execution of the program:\n",
    "\n",
    "Please enter the value of a: 4\n",
    "Please enter the value of b: 2\n",
    "Please enter the value of c: -2\n",
    "\n",
    "The quadratic equation has 2 real solutions.\n",
    "Here is an another example execution of the program:\n",
    "\n",
    "Please enter the value of a: 1\n",
    "Please enter the value of b: 2\n",
    "Please enter the value of c: 3\n",
    "\n",
    "The quadratic equation has 2 complex solutions.\n",
    "And here is yet another example execution of the program:\n",
    "\n",
    "Please enter the value of a: 1\n",
    "Please enter the value of b: 2\n",
    "Please enter the value of c: 1\n",
    "\n",
    "The quadratic equation has 1 real solution.\n",
    "\n",
    "\n",
    "Discriminate: \n",
    "b^^2 - 4ac"
   ]
  },
  {
   "cell_type": "code",
   "execution_count": 3,
   "metadata": {},
   "outputs": [
    {
     "name": "stdout",
     "output_type": "stream",
     "text": [
      "The quadratic equation has 2 complex solutions.\n"
     ]
    }
   ],
   "source": [
    "#Get user input for 3 numbers \n",
    "a = int(input(\"Please enter the value for a\"))\n",
    "b = int(input(\"Please enter the value for b\"))\n",
    "c = int(input(\"Please enter the value for c\"))\n",
    "\n",
    "if b^2 - 4*a*c == 0:\n",
    "    print(\"The quadratic equation has 1 real solution.\")\n",
    "\n",
    "elif b^2 - 4*a*c > 0:\n",
    "    print(\"The quadratic equation has 2 real solutions.\")\n",
    "\n",
    "elif b^2 - 4*a*c < 0:\n",
    "    print(\"The quadratic equation has 2 complex solutions.\")"
   ]
  }
 ],
 "metadata": {
  "kernelspec": {
   "display_name": "Python 3",
   "language": "python",
   "name": "python3"
  },
  "language_info": {
   "codemirror_mode": {
    "name": "ipython",
    "version": 3
   },
   "file_extension": ".py",
   "mimetype": "text/x-python",
   "name": "python",
   "nbconvert_exporter": "python",
   "pygments_lexer": "ipython3",
   "version": "3.11.4"
  },
  "orig_nbformat": 4
 },
 "nbformat": 4,
 "nbformat_minor": 2
}
